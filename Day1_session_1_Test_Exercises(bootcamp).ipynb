{
  "nbformat": 4,
  "nbformat_minor": 0,
  "metadata": {
    "colab": {
      "name": "Day1 session 1 Test Exercises(bootcamp).ipynb",
      "provenance": [],
      "collapsed_sections": [],
      "include_colab_link": true
    },
    "kernelspec": {
      "name": "python3",
      "display_name": "Python 3"
    }
  },
  "cells": [
    {
      "cell_type": "markdown",
      "metadata": {
        "id": "view-in-github",
        "colab_type": "text"
      },
      "source": [
        "<a href=\"https://colab.research.google.com/github/saiharsha8461/WTA-ASSIGNMENT-1/blob/master/Day1_session_1_Test_Exercises(bootcamp).ipynb\" target=\"_parent\"><img src=\"https://colab.research.google.com/assets/colab-badge.svg\" alt=\"Open In Colab\"/></a>"
      ]
    },
    {
      "cell_type": "code",
      "metadata": {
        "id": "eB4h718gddH2",
        "colab_type": "code",
        "colab": {}
      },
      "source": [
        "#Find the compound interest for the given p,n,r  (formula : p(1+r/100)n)\n",
        "p = int(input(\"Enter The Principle Amount: \"))\n",
        "r = int(input(\"Enter The Rate of Interest: \"))\n",
        "n = int(input(\"Enter The Time Period: \"))\n",
        "print(f'The Compound Interest Is: {p*(1+r/100)**n}')"
      ],
      "execution_count": null,
      "outputs": []
    },
    {
      "cell_type": "code",
      "metadata": {
        "id": "f5vHRsSUiZ_j",
        "colab_type": "code",
        "colab": {}
      },
      "source": [
        "#Convert centegrade to farenheit  ( f= 9/5*c+32)\n",
        "c = float(input(\"Enter The Temperature In Centegrade: \"))\n",
        "print(f'The Temperature In Farenheit Is: {9/5*c+32}')"
      ],
      "execution_count": null,
      "outputs": []
    },
    {
      "cell_type": "code",
      "metadata": {
        "id": "xUcBprk7jCDW",
        "colab_type": "code",
        "colab": {}
      },
      "source": [
        "#Find the greater of two nos \n",
        "a, b = int(input('Enter The First Number: ')), int(input('Enter The Second Number: '))\n",
        "print(f'The Greater Number Is: {max(a,b)}')"
      ],
      "execution_count": null,
      "outputs": []
    },
    {
      "cell_type": "code",
      "metadata": {
        "id": "e1N9IW7EkGNJ",
        "colab_type": "code",
        "colab": {}
      },
      "source": [
        "#Write a program for finding surface areas of cylinder and cone (2*PI*r*r*h, 1/3*PI*r*r*h) using function.\n",
        "def cyl(r,h):\n",
        "  return 2*3.14*r*r*h\n",
        "def cone(r,h):\n",
        "  return 1/3*3.14*r*r*h\n",
        "r1, h1 = int(input('Enter The Radius Of Cylinder: ')), int(input('Enter The Height Of Cylinder: '))\n",
        "print(f'The Surface Area Of Cylinder Is: {cyl(r1, h1)}')\n",
        "r2, h2 = int(input('Enter The Radius Of Cone: ')), int(input('Enter The Height Of Cone: '))\n",
        "print(f'The Surface Area Of Cylinder Is: {cone(r2, h2)}')"
      ],
      "execution_count": null,
      "outputs": []
    },
    {
      "cell_type": "code",
      "metadata": {
        "id": "Yy1nJ38ymT_-",
        "colab_type": "code",
        "colab": {}
      },
      "source": [
        "#Find the greatest of four nos ( using ‘and’ operator)   using function.\n",
        "def grt(a, b, c, d):\n",
        "  if(a>b and a>c and a>d):\n",
        "    return a\n",
        "  elif(b>a and b>c and b>d):\n",
        "    return b\n",
        "  elif(c>a and c>b and c>d):\n",
        "    return c\n",
        "  else:\n",
        "    return d\n",
        "a, b, c, d = int(input('Enter The First Number: ')), int(input('Enter The Second Number: ')), int(input('Enter The Third Number: ')),int(input('Enter The Fourth Number: '))\n",
        "print(f'The Greater Number IS: {grt(a, b, c, d)}')"
      ],
      "execution_count": null,
      "outputs": []
    },
    {
      "cell_type": "code",
      "metadata": {
        "id": "u0zYmR2FoEN5",
        "colab_type": "code",
        "colab": {}
      },
      "source": [
        "#Write a  menu program to perform the operations ( ODDorEven, Factorial, ODDNoUptoN, PrimeUptoN ) using functions for two nos with  menu choice\n",
        "loop = 1\n",
        "choice = 0 \n",
        "def oor(n):\n",
        "  if (n%2==0):\n",
        "    print(f\"The {n} is Even Number\")\n",
        "  else:\n",
        "    print(f\"The {n} is Odd Number\")\n",
        "def fact(n):\n",
        "  if n==0:\n",
        "    return 1\n",
        "  else:\n",
        "    return n*fact(n-1)\n",
        "def odd(n):\n",
        "  l=list()\n",
        "  for i in range(n):\n",
        "    if (i % 2 != 0):\n",
        "      l.append(i)      \n",
        "  print(l)\n",
        "def prm(n):\n",
        "  li=list()\n",
        "  for i in range(2,n):\n",
        "    if (i==2):\n",
        "        li.append(i)\n",
        "    else:\n",
        "      for a in range(2,i):\n",
        "        if (i % a==0):\n",
        "          break\n",
        "        elif (a==i-1):\n",
        "          li.append(i)\n",
        "  print(li)\n",
        "\n",
        "while loop == 1:\n",
        "  print('Menu')\n",
        "  print('----')\n",
        "  print('''1.Odd or Even\n",
        "  2.Factorial\n",
        "  3.Odd Numbers\n",
        "  4.Prime Numbers\n",
        "  5.Quit\n",
        "                 ''')\n",
        "  try:\n",
        "        choice = int(input(\"Choose your option: \"))\n",
        "  except:\n",
        "        print('Please enter a valid number for option')\n",
        "  if choice == 1:\n",
        "        x = int(input(\"Enter The Number: \"))\n",
        "        oor(x)\n",
        "        print(\"-------------------------\")\n",
        "\n",
        "  elif choice == 2:\n",
        "        x = int(input(\"Enter The Number: \"))\n",
        "        print(f\"Factorial Of {x} is: {fact(x)}\")\n",
        "        print(\"-------------------------\")\n",
        "  \n",
        "  elif choice == 3:\n",
        "        x = int(input(\"Enter A Number For Range: \"))\n",
        "        odd(x)\n",
        "        print(\"-------------------------\")\n",
        "\n",
        "  elif choice == 4:\n",
        "        x = int(input(\"Enter A Number For Range: \"))\n",
        "        prm(x)\n",
        "        print(\"-------------------------\")\n",
        "  elif choice == 5:\n",
        "      print(\"-------------------------\")\n",
        "      break\n",
        "     \n",
        "  else:\n",
        "        print(\"please choice a valid option from 1 to 5\")\n",
        "        choice=0\n",
        "\n",
        "\n"
      ],
      "execution_count": null,
      "outputs": []
    }
  ]
}